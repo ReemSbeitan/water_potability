{
  "cells": [
    {
      "cell_type": "markdown",
      "metadata": {
        "id": "RMeKZdbW-MWN"
      },
      "source": [
        "# First we need to import some essential libraries."
      ],
      "id": "RMeKZdbW-MWN"
    },
    {
      "cell_type": "code",
      "execution_count": null,
      "metadata": {
        "id": "Jk2Cxr5L-MWP"
      },
      "outputs": [],
      "source": [
        "import numpy as np\n",
        "import pandas as pd\n",
        "import seaborn as sns\n",
        "import matplotlib.pyplot as plt"
      ],
      "id": "Jk2Cxr5L-MWP"
    },
    {
      "cell_type": "markdown",
      "source": [
        "# Features Description:\n",
        "\n",
        "# ph: pH of 1. water (0 to 14).\n",
        "# Hardness: Capacity of water to precipitate soap in mg/L.\n",
        "# Solids: Total dissolved solids in ppm.\n",
        "# Chloramines: Amount of Chloramines in ppm.\n",
        "# Sulfate: Amount of Sulfates dissolved in mg/L.\n",
        "# Conductivity: Electrical conductivity of water in μS/cm.\n",
        "# Organic_carbon: Amount of organic carbon in ppm.\n",
        "# Trihalomethanes: Amount of Trihalomethanes in μg/L.\n",
        "# Turbidity: Measure of light emiting property of water in NTU.\n",
        "# *Potability*: Indicates if water is safe for human consumption. Potable - 1 and Not potable - 0"
      ],
      "metadata": {
        "id": "FwLVAFDOIoWf"
      },
      "id": "FwLVAFDOIoWf"
    },
    {
      "cell_type": "markdown",
      "metadata": {
        "id": "QexICZVw-MWR"
      },
      "source": [
        "# 1.Get the Data"
      ],
      "id": "QexICZVw-MWR"
    },
    {
      "cell_type": "code",
      "execution_count": null,
      "metadata": {
        "id": "uk054FVX-MWR"
      },
      "outputs": [],
      "source": [
        "d=pd.read_csv('water_potability.csv')"
      ],
      "id": "uk054FVX-MWR"
    },
    {
      "cell_type": "markdown",
      "metadata": {
        "id": "b5hfggC8-MWS"
      },
      "source": [
        "# 2.Take a Look at the Data"
      ],
      "id": "b5hfggC8-MWS"
    },
    {
      "cell_type": "code",
      "execution_count": null,
      "metadata": {
        "id": "3_iUjUim-MWS"
      },
      "outputs": [],
      "source": [
        "d.head()"
      ],
      "id": "3_iUjUim-MWS"
    },
    {
      "cell_type": "markdown",
      "source": [
        "# Print information about the DataFrame: number of columns and labels, column data types,and the number of cells in each column (non-null values):"
      ],
      "metadata": {
        "id": "JnTp3ANWJ843"
      },
      "id": "JnTp3ANWJ843"
    },
    {
      "cell_type": "code",
      "execution_count": null,
      "metadata": {
        "id": "lt5UgWyV-MWT"
      },
      "outputs": [],
      "source": [
        "d.info()"
      ],
      "id": "lt5UgWyV-MWT"
    },
    {
      "cell_type": "markdown",
      "source": [
        "# Get a descriptive statistics summary of our dataframe:"
      ],
      "metadata": {
        "id": "6k3EQpOfKI3E"
      },
      "id": "6k3EQpOfKI3E"
    },
    {
      "cell_type": "code",
      "execution_count": null,
      "metadata": {
        "id": "UEkffo4L-MWU"
      },
      "outputs": [],
      "source": [
        "d.describe()"
      ],
      "id": "UEkffo4L-MWU"
    },
    {
      "cell_type": "markdown",
      "source": [
        "# Number of missing values in each column:"
      ],
      "metadata": {
        "id": "pdYCYFAmKRpS"
      },
      "id": "pdYCYFAmKRpS"
    },
    {
      "cell_type": "code",
      "source": [
        "d.isnull().sum()"
      ],
      "metadata": {
        "id": "_7eSAFVs_WWg"
      },
      "id": "_7eSAFVs_WWg",
      "execution_count": null,
      "outputs": []
    },
    {
      "cell_type": "markdown",
      "metadata": {
        "id": "XWU_z7Dz-MWV"
      },
      "source": [
        "We can see that there are some missing values, we must handle it."
      ],
      "id": "XWU_z7Dz-MWV"
    },
    {
      "cell_type": "markdown",
      "source": [
        "# Checking the number of duplicated rows to drop it:"
      ],
      "metadata": {
        "id": "4Ac5dag1KY_y"
      },
      "id": "4Ac5dag1KY_y"
    },
    {
      "cell_type": "code",
      "execution_count": null,
      "metadata": {
        "id": "hukCFLPV-MWW"
      },
      "outputs": [],
      "source": [
        "d.duplicated().sum()"
      ],
      "id": "hukCFLPV-MWW"
    },
    {
      "cell_type": "markdown",
      "source": [
        "# Checking the shape of the data:"
      ],
      "metadata": {
        "id": "gR0fglIhJ1Qa"
      },
      "id": "gR0fglIhJ1Qa"
    },
    {
      "cell_type": "code",
      "source": [
        "d.shape"
      ],
      "metadata": {
        "id": "mloitLKR_cJR"
      },
      "id": "mloitLKR_cJR",
      "execution_count": null,
      "outputs": []
    },
    {
      "cell_type": "markdown",
      "source": [
        "# Missing Values:"
      ],
      "metadata": {
        "id": "pzjV_X47JqLj"
      },
      "id": "pzjV_X47JqLj"
    },
    {
      "cell_type": "code",
      "execution_count": null,
      "metadata": {
        "id": "R_KdEjLX-MWW"
      },
      "outputs": [],
      "source": [
        "plt.figure(figsize=(12, 12))\n",
        "sns.heatmap(d.isnull(),yticklabels=False,cbar=False)\n",
        "plt.show()"
      ],
      "id": "R_KdEjLX-MWW"
    },
    {
      "cell_type": "code",
      "execution_count": null,
      "metadata": {
        "id": "mzdVF6kd-MWX"
      },
      "outputs": [],
      "source": [
        "sns.countplot(x=\"Potability\", data=d, palette=\"Paired\")\n",
        "plt.show()"
      ],
      "id": "mzdVF6kd-MWX"
    },
    {
      "cell_type": "code",
      "execution_count": null,
      "metadata": {
        "id": "UzGLgq_v-MWY"
      },
      "outputs": [],
      "source": [
        "d['Potability'].value_counts(normalize=True)"
      ],
      "id": "UzGLgq_v-MWY"
    },
    {
      "cell_type": "code",
      "execution_count": null,
      "metadata": {
        "id": "bV-tGGCa-MWY"
      },
      "outputs": [],
      "source": [
        "#To identify outlier data points, we used the box plot.\n",
        "import matplotlib.pyplot as plt\n",
        "import seaborn as sns\n",
        "columns= d.columns\n",
        "for i in columns:\n",
        "    plt.figure(figsize=(12, 4))\n",
        "    sns.set_theme(style=\"whitegrid\")\n",
        "    ax = sns.boxplot(x=d[i]).set_title(i)"
      ],
      "id": "bV-tGGCa-MWY"
    },
    {
      "cell_type": "markdown",
      "source": [
        "In our dataset, outliers are not abnormal so that we had not make any changes on."
      ],
      "metadata": {
        "id": "fYuGb_OqLEcm"
      },
      "id": "fYuGb_OqLEcm"
    },
    {
      "cell_type": "markdown",
      "source": [
        "# We used corr() to find the pairwise correlation of all columns in our dataframe."
      ],
      "metadata": {
        "id": "oibNCCpgLTv6"
      },
      "id": "oibNCCpgLTv6"
    },
    {
      "cell_type": "code",
      "execution_count": null,
      "metadata": {
        "id": "ruoc_Sdo-MWY"
      },
      "outputs": [],
      "source": [
        "# we used corr() to find the pairwise correlation of all columns in our dataframe.\n",
        "plt.figure(figsize=(15,10))\n",
        "cor = d.corr()\n",
        "sns.heatmap(cor, annot=True)\n",
        "plt.show()"
      ],
      "id": "ruoc_Sdo-MWY"
    },
    {
      "cell_type": "markdown",
      "source": [
        "# 3. Handling Missing Features"
      ],
      "metadata": {
        "id": "99Y1d4AD-6x1"
      },
      "id": "99Y1d4AD-6x1"
    },
    {
      "cell_type": "markdown",
      "source": [
        "# Filling the missing data in each column with its mean:"
      ],
      "metadata": {
        "id": "ZHnjaMZxKnGH"
      },
      "id": "ZHnjaMZxKnGH"
    },
    {
      "cell_type": "code",
      "source": [
        "d['Sulfate'].fillna(d['Sulfate'].mean(), inplace=True)\n",
        "d['ph'].fillna(d['ph'].mean(), inplace=True)\n",
        "d['Trihalomethanes'].fillna(d['Trihalomethanes'].mean(), inplace=True)"
      ],
      "metadata": {
        "id": "OvwTrr3N-8rk"
      },
      "id": "OvwTrr3N-8rk",
      "execution_count": null,
      "outputs": []
    },
    {
      "cell_type": "markdown",
      "source": [
        "Now there is no missing value in our dataset."
      ],
      "metadata": {
        "id": "nKh0YOHBK3ur"
      },
      "id": "nKh0YOHBK3ur"
    },
    {
      "cell_type": "code",
      "source": [
        "d.isnull().sum()"
      ],
      "metadata": {
        "id": "gm7Cq-LT_oe2"
      },
      "id": "gm7Cq-LT_oe2",
      "execution_count": null,
      "outputs": []
    },
    {
      "cell_type": "markdown",
      "source": [
        "The corr() after handle the missing values:"
      ],
      "metadata": {
        "id": "IIZjUhvvMLCw"
      },
      "id": "IIZjUhvvMLCw"
    },
    {
      "cell_type": "code",
      "source": [
        "plt.figure(figsize=(12,8))\n",
        "sns.heatmap(d.corr(), annot=True);\n",
        "plt.show()"
      ],
      "metadata": {
        "id": "-0gR4ZfT_uFz"
      },
      "id": "-0gR4ZfT_uFz",
      "execution_count": null,
      "outputs": []
    },
    {
      "cell_type": "markdown",
      "metadata": {
        "id": "6BZj2w9B-MWZ"
      },
      "source": [
        "### StandardScaler :is useful for the features that follow a Normal distribution.\n",
        "### MinMaxScaler : may be used when the upper and lower boundaries are well known from domain knowledge ."
      ],
      "id": "6BZj2w9B-MWZ"
    },
    {
      "cell_type": "code",
      "execution_count": null,
      "metadata": {
        "id": "8EUoSUkZ-MWZ"
      },
      "outputs": [],
      "source": [
        "%matplotlib inline\n",
        "d.drop('Potability', axis=1).hist(bins=50, figsize=(20,15))\n",
        "plt.show()"
      ],
      "id": "8EUoSUkZ-MWZ"
    },
    {
      "cell_type": "markdown",
      "source": [
        "# Dropping the target label:"
      ],
      "metadata": {
        "id": "kwX1oVdbMoum"
      },
      "id": "kwX1oVdbMoum"
    },
    {
      "cell_type": "code",
      "execution_count": null,
      "metadata": {
        "id": "ItrSOmF4-MWZ"
      },
      "outputs": [],
      "source": [
        "x=d.drop(\"Potability\",axis=1)\n",
        "y=d.Potability"
      ],
      "id": "ItrSOmF4-MWZ"
    },
    {
      "cell_type": "markdown",
      "source": [
        "# Applying the standard scaler on the numarical data: (The data is normally distributed)"
      ],
      "metadata": {
        "id": "i1rvhi2QLcB8"
      },
      "id": "i1rvhi2QLcB8"
    },
    {
      "cell_type": "code",
      "execution_count": null,
      "metadata": {
        "id": "QW6Y8atM-MWZ"
      },
      "outputs": [],
      "source": [
        "from sklearn.pipeline import Pipeline\n",
        "from sklearn.preprocessing import StandardScaler, OneHotEncoder ,MinMaxScaler\n",
        "#Applying the standard scaler on the numarical data, and one_hot_encoding on categorical data.\n",
        "numeric_transformer = Pipeline(\n",
        "    steps=[ (\"scaler\",  StandardScaler())]\n",
        ")\n",
        "a = numeric_transformer.fit_transform(x)"
      ],
      "id": "QW6Y8atM-MWZ"
    },
    {
      "cell_type": "code",
      "execution_count": null,
      "metadata": {
        "id": "CC7EpuN6-MWa"
      },
      "outputs": [],
      "source": [
        "d_x= pd.DataFrame(a, columns = x.columns)\n",
        "d_x.head()"
      ],
      "id": "CC7EpuN6-MWa"
    },
    {
      "cell_type": "markdown",
      "source": [
        "# 4.Create Test Set and Train Set"
      ],
      "metadata": {
        "id": "c0OF9V02ADYi"
      },
      "id": "c0OF9V02ADYi"
    },
    {
      "cell_type": "code",
      "execution_count": null,
      "metadata": {
        "id": "ytG0ygEL-MWa"
      },
      "outputs": [],
      "source": [
        "from sklearn.model_selection import train_test_split"
      ],
      "id": "ytG0ygEL-MWa"
    },
    {
      "cell_type": "code",
      "execution_count": null,
      "metadata": {
        "id": "nV2rh-5v-MWa"
      },
      "outputs": [],
      "source": [
        "x=d.drop(\"Potability\",axis=1)\n",
        "y=d.Potability"
      ],
      "id": "nV2rh-5v-MWa"
    },
    {
      "cell_type": "code",
      "execution_count": null,
      "metadata": {
        "id": "xYpGd_af-MWa"
      },
      "outputs": [],
      "source": [
        "x_train,x_test,y_train,y_test=train_test_split(d_x,y,test_size=0.3,random_state=42)"
      ],
      "id": "xYpGd_af-MWa"
    },
    {
      "cell_type": "code",
      "execution_count": null,
      "metadata": {
        "id": "WAw0_x69-MWb"
      },
      "outputs": [],
      "source": [
        "from sklearn.metrics import accuracy_score\n",
        "\n",
        "def evaluation(x,y, model):\n",
        "    y_hat = model.predict(x)\n",
        "    prob = model.predict_proba(x)\n",
        "    accuracy = accuracy_score(y, y_hat)\n",
        "    print(f\"Accuracy: {accuracy}\")\n",
        "    return accuracy, prob, y_hat"
      ],
      "id": "WAw0_x69-MWb"
    },
    {
      "cell_type": "markdown",
      "source": [
        "# Now we are ready to train a model and predict the required solution."
      ],
      "metadata": {
        "id": "LmUGIo3zLlVz"
      },
      "id": "LmUGIo3zLlVz"
    },
    {
      "cell_type": "code",
      "execution_count": null,
      "metadata": {
        "id": "oh1WYR4X-MWb"
      },
      "outputs": [],
      "source": [
        "from sklearn.linear_model import LogisticRegression\n",
        "\n",
        "logR=LogisticRegression()\n",
        "\n",
        "logR.fit(x_train, y_train)\n",
        "\n",
        "print(\"Training Accurcay: \")\n",
        "accuracyTr, probTr, predictTr = evaluation(x_train,y_train, logR)\n",
        "print(\"Testing Accurcay: \")\n",
        "accuracyTs, probTs, predictTs = evaluation(x_test,y_test, logR)\n"
      ],
      "id": "oh1WYR4X-MWb"
    },
    {
      "cell_type": "code",
      "source": [
        "from sklearn.model_selection import cross_val_predict\n",
        "y_train_pred = cross_val_predict(logR, x_train, y_train, cv=3)\n",
        "confusion_matrix(y_train, y_train_pred)"
      ],
      "metadata": {
        "id": "04YWJUSOBupn"
      },
      "id": "04YWJUSOBupn",
      "execution_count": null,
      "outputs": []
    },
    {
      "cell_type": "code",
      "execution_count": null,
      "metadata": {
        "id": "fapgHL9H-MWb"
      },
      "outputs": [],
      "source": [
        "from sklearn.neighbors import KNeighborsClassifier\n",
        "KNC = KNeighborsClassifier(n_neighbors=30)\n",
        "KNC.fit(x_train, y_train)\n",
        "\n",
        "print(\"Training Accurcay: \", KNC.score(x_train, y_train))\n",
        "print(\"Testing Accurcay: \", KNC.score(x_test, y_test))\n"
      ],
      "id": "fapgHL9H-MWb"
    },
    {
      "cell_type": "code",
      "source": [
        "y_train_pred = cross_val_predict(KNC, x_train, y_train, cv=3)\n",
        "confusion_matrix(y_train, y_train_pred)"
      ],
      "metadata": {
        "id": "DobvBTFMB6NI"
      },
      "id": "DobvBTFMB6NI",
      "execution_count": null,
      "outputs": []
    },
    {
      "cell_type": "code",
      "execution_count": null,
      "metadata": {
        "id": "TEY7bz4E-MWb"
      },
      "outputs": [],
      "source": [
        "from sklearn.svm import SVC\n",
        "clf = SVC()\n",
        "clf.fit(x_train, y_train)\n",
        "print(\"Training Accurcay: \", clf.score(x_train, y_train))\n",
        "print(\"Testing Accurcay: \", clf.score(x_test, y_test))"
      ],
      "id": "TEY7bz4E-MWb"
    },
    {
      "cell_type": "code",
      "source": [
        "y_train_pred = cross_val_predict(clf, x_train, y_train, cv=3)\n",
        "confusion_matrix(y_train, y_train_pred)"
      ],
      "metadata": {
        "id": "1QwfoRY8COKo"
      },
      "id": "1QwfoRY8COKo",
      "execution_count": null,
      "outputs": []
    },
    {
      "cell_type": "code",
      "execution_count": null,
      "metadata": {
        "id": "NaiR8i4A-MWc"
      },
      "outputs": [],
      "source": [
        "from sklearn.ensemble import RandomForestClassifier\n",
        "RF = RandomForestClassifier(n_estimators=10)\n",
        "RF.fit(x_train,y_train)\n",
        "\n",
        "print(\"Training Accurcay: \")\n",
        "accuracyTr, probTr, predictTr = evaluation(x_train,y_train, RF)\n",
        "print(\"Testing Accurcay: \")\n",
        "accuracyTs, probTs, predictTs = evaluation(x_test,y_test, RF)"
      ],
      "id": "NaiR8i4A-MWc"
    },
    {
      "cell_type": "code",
      "source": [
        "y_train_pred = cross_val_predict(RF, x_train, y_train, cv=3)\n",
        "confusion_matrix(y_train, y_train_pred)"
      ],
      "metadata": {
        "id": "iwbZGp1BCf-z"
      },
      "id": "iwbZGp1BCf-z",
      "execution_count": null,
      "outputs": []
    },
    {
      "cell_type": "code",
      "execution_count": null,
      "metadata": {
        "id": "hTJudLiK-MWc"
      },
      "outputs": [],
      "source": [
        "import  tensorflow as tf\n",
        "from tensorflow import keras\n",
        "from tensorflow.keras import layers, optimizers\n",
        "from tensorflow.keras.models import Sequential,Model\n",
        "from tensorflow.keras.layers import Dense"
      ],
      "id": "hTJudLiK-MWc"
    },
    {
      "cell_type": "code",
      "execution_count": null,
      "metadata": {
        "id": "PmFXHcH_-MWd"
      },
      "outputs": [],
      "source": [
        "from keras import models\n",
        "from keras import layers\n",
        "model = models.Sequential()\n",
        "model.add(layers.Dense(100, activation='relu'))\n",
        "model.add(layers.BatchNormalization())\n",
        "model.add(layers.Dense(50, activation='relu'))\n",
        "model.add(layers.BatchNormalization())\n",
        "model.add(layers.Dense(10, activation='relu'))\n",
        "model.add(layers.BatchNormalization())\n",
        "model.add(layers.Dense(5, activation='relu'))\n",
        "model.add(layers.BatchNormalization())\n",
        "model.add(layers.Dense(1, activation='sigmoid'))\n",
        "opt = tf.keras.optimizers.SGD(learning_rate=0.05)\n",
        "early_stopping_cb = keras.callbacks.EarlyStopping(patience=5, restore_best_weights=True)\n",
        "checkpoint_cb = keras.callbacks.ModelCheckpoint(\"my_keras_model.h5\", save_best_only=True)"
      ],
      "id": "PmFXHcH_-MWd"
    },
    {
      "cell_type": "code",
      "execution_count": null,
      "metadata": {
        "id": "IiCqL7dX-MWd"
      },
      "outputs": [],
      "source": [
        "model.compile(optimizer=opt, loss='binary_crossentropy', metrics = ['accuracy'])"
      ],
      "id": "IiCqL7dX-MWd"
    },
    {
      "cell_type": "code",
      "execution_count": null,
      "metadata": {
        "id": "vRlLewC2-MWd"
      },
      "outputs": [],
      "source": [
        "history = model.fit(x_train, y_train, validation_data=(x_test, y_test), batch_size = 54, epochs = 30,callbacks=[checkpoint_cb, early_stopping_cb])"
      ],
      "id": "vRlLewC2-MWd"
    },
    {
      "cell_type": "code",
      "execution_count": null,
      "metadata": {
        "id": "lUVDRdVr-MWd"
      },
      "outputs": [],
      "source": [
        "model.evaluate(x_test, y_test)"
      ],
      "id": "lUVDRdVr-MWd"
    },
    {
      "cell_type": "code",
      "source": [
        "model.summary()"
      ],
      "metadata": {
        "id": "5rGuAgsbHCZ7"
      },
      "id": "5rGuAgsbHCZ7",
      "execution_count": null,
      "outputs": []
    },
    {
      "cell_type": "code",
      "source": [
        "pd.DataFrame(history.history).plot(figsize=(8, 5))\n",
        "plt.grid(True)\n",
        "plt.gca().set_ylim(0, 1)\n",
        "plt.show()"
      ],
      "metadata": {
        "id": "Ph86Y-dSHp4p"
      },
      "id": "Ph86Y-dSHp4p",
      "execution_count": null,
      "outputs": []
    },
    {
      "cell_type": "markdown",
      "source": [
        "# SGD with momentum"
      ],
      "metadata": {
        "id": "qIjjmtJQA4-R"
      },
      "id": "qIjjmtJQA4-R"
    },
    {
      "cell_type": "code",
      "execution_count": null,
      "metadata": {
        "id": "dZGpkXTW-MWe"
      },
      "outputs": [],
      "source": [
        "model = models.Sequential()\n",
        "\n",
        "model.add(layers.Dense(300, activation='relu'))\n",
        "\n",
        "model.add(layers.BatchNormalization())\n",
        "\n",
        "model.add(layers.Dense(150, activation='relu'))\n",
        "\n",
        "model.add(layers.BatchNormalization())\n",
        "\n",
        "model.add(layers.Dense(30, activation='relu'))\n",
        "\n",
        "model.add(layers.BatchNormalization())\n",
        "\n",
        "model.add(layers.Dense(1, activation='sigmoid'))\n",
        "\n",
        "opt = tf.keras.optimizers.SGD(learning_rate=0.05,momentum=0.95)\n",
        "\n",
        "early_stopping_cb = keras.callbacks.EarlyStopping(patience=5, restore_best_weights=True)\n",
        "\n",
        "checkpoint_cb = keras.callbacks.ModelCheckpoint(\"my_keras_model.h5\", save_best_only=True)"
      ],
      "id": "dZGpkXTW-MWe"
    },
    {
      "cell_type": "code",
      "execution_count": null,
      "metadata": {
        "id": "r1ZIWLrn-MWe"
      },
      "outputs": [],
      "source": [
        "model.compile(optimizer=opt, loss='binary_crossentropy', metrics = ['accuracy'])\n",
        "\n",
        "history = model.fit(x_train, y_train, validation_data=(x_test, y_test), batch_size = 54, epochs = 30,callbacks=[checkpoint_cb, early_stopping_cb])"
      ],
      "id": "r1ZIWLrn-MWe"
    },
    {
      "cell_type": "code",
      "execution_count": null,
      "metadata": {
        "id": "8z7X8MmJ-MWe"
      },
      "outputs": [],
      "source": [
        "model.evaluate(x_test,y_test)"
      ],
      "id": "8z7X8MmJ-MWe"
    },
    {
      "cell_type": "code",
      "source": [
        "model.summary()"
      ],
      "metadata": {
        "id": "cJLLvw92G5sf"
      },
      "id": "cJLLvw92G5sf",
      "execution_count": null,
      "outputs": []
    },
    {
      "cell_type": "code",
      "source": [
        "pd.DataFrame(history.history).plot(figsize=(8, 5))\n",
        "plt.grid(True)\n",
        "plt.gca().set_ylim(0, 1)\n",
        "plt.show()"
      ],
      "metadata": {
        "id": "Yw3WAjjbHtAu"
      },
      "id": "Yw3WAjjbHtAu",
      "execution_count": null,
      "outputs": []
    },
    {
      "cell_type": "markdown",
      "source": [
        "# Adam optimizer"
      ],
      "metadata": {
        "id": "LRB9JHirBAJB"
      },
      "id": "LRB9JHirBAJB"
    },
    {
      "cell_type": "code",
      "execution_count": null,
      "metadata": {
        "id": "lZUQo-XR-MWe"
      },
      "outputs": [],
      "source": [
        "\n",
        "model = models.Sequential()\n",
        "\n",
        "model.add(layers.Dense(300, activation='relu'))\n",
        "\n",
        "model.add(layers.BatchNormalization())\n",
        "\n",
        "model.add(layers.Dense(150, activation='relu'))\n",
        "\n",
        "model.add(layers.BatchNormalization())\n",
        "\n",
        "model.add(layers.Dense(30, activation='relu'))\n",
        "\n",
        "model.add(layers.BatchNormalization())\n",
        "\n",
        "model.add(layers.Dense(1, activation='sigmoid'))\n",
        "\n",
        "opt = tf.keras.optimizers.Adam(learning_rate=0.05)\n",
        "\n",
        "early_stopping_cb = keras.callbacks.EarlyStopping(patience=5, restore_best_weights=True)\n",
        "\n",
        "checkpoint_cb = keras.callbacks.ModelCheckpoint(\"my_keras_model.h5\", save_best_only=True)"
      ],
      "id": "lZUQo-XR-MWe"
    },
    {
      "cell_type": "code",
      "execution_count": null,
      "metadata": {
        "id": "f6svYAeo-MWe"
      },
      "outputs": [],
      "source": [
        "model.compile(optimizer=opt, loss='binary_crossentropy', metrics = ['accuracy'])\n",
        "\n",
        "history = model.fit(x_train, y_train, validation_data=(x_test, y_test), batch_size = 54, epochs = 30,callbacks=[checkpoint_cb, early_stopping_cb])"
      ],
      "id": "f6svYAeo-MWe"
    },
    {
      "cell_type": "code",
      "execution_count": null,
      "metadata": {
        "id": "1nPkqyQ_-MWf"
      },
      "outputs": [],
      "source": [
        "model.evaluate(x_test,y_test)"
      ],
      "id": "1nPkqyQ_-MWf"
    },
    {
      "cell_type": "code",
      "source": [
        "model.summary()"
      ],
      "metadata": {
        "id": "aqClEe5iHKBj"
      },
      "id": "aqClEe5iHKBj",
      "execution_count": null,
      "outputs": []
    },
    {
      "cell_type": "code",
      "source": [
        "pd.DataFrame(history.history).plot(figsize=(8, 5))\n",
        "plt.grid(True)\n",
        "plt.gca().set_ylim(0, 1)\n",
        "plt.show()"
      ],
      "metadata": {
        "id": "D904JmP9HzU0"
      },
      "id": "D904JmP9HzU0",
      "execution_count": null,
      "outputs": []
    },
    {
      "cell_type": "markdown",
      "source": [
        "# The highest accuracy we got is 69% from the model with SGD optemizer and momentum."
      ],
      "metadata": {
        "id": "4vaFJJrwBLLe"
      },
      "id": "4vaFJJrwBLLe"
    }
  ],
  "metadata": {
    "kernelspec": {
      "display_name": "Python 3",
      "language": "python",
      "name": "python3"
    },
    "language_info": {
      "codemirror_mode": {
        "name": "ipython",
        "version": 3
      },
      "file_extension": ".py",
      "mimetype": "text/x-python",
      "name": "python",
      "nbconvert_exporter": "python",
      "pygments_lexer": "ipython3",
      "version": "3.8.5"
    },
    "colab": {
      "provenance": []
    }
  },
  "nbformat": 4,
  "nbformat_minor": 5
}